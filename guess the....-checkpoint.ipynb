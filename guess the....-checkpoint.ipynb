{
 "cells": [
  {
   "cell_type": "code",
   "execution_count": 3,
   "metadata": {},
   "outputs": [
    {
     "name": "stdout",
     "output_type": "stream",
     "text": [
      "kdf\n",
      "Please make a valid assumption\n",
      "\n",
      "{a valid assumption involves a numeric input}\n",
      "12\n"
     ]
    }
   ],
   "source": [
    "while True:\n",
    "    try:\n",
    "        guess=int(input())\n",
    "        break\n",
    "    except:\n",
    "        print('Please make a valid assumption\\n\\n{a valid assumption involves a numeric input}')"
   ]
  },
  {
   "cell_type": "code",
   "execution_count": 6,
   "metadata": {},
   "outputs": [
    {
     "data": {
      "text/plain": [
       "14"
      ]
     },
     "execution_count": 6,
     "metadata": {},
     "output_type": "execute_result"
    }
   ],
   "source": [
    "import random\n",
    "random.randint(12,24)"
   ]
  },
  {
   "cell_type": "code",
   "execution_count": 20,
   "metadata": {},
   "outputs": [
    {
     "name": "stdout",
     "output_type": "stream",
     "text": [
      "yes\n"
     ]
    }
   ],
   "source": [
    "while True:\n",
    "    try :\n",
    "        wannaPlay=input()\n",
    "        if wannaPlay not in ['yes','no','YES','NO','Yes','No','YEs','nO','YeS','yES']:\n",
    "            raise TypeError\n",
    "        break\n",
    "    except:\n",
    "        print('Please type either yes or no')"
   ]
  },
  {
   "cell_type": "code",
   "execution_count": 18,
   "metadata": {},
   "outputs": [
    {
     "name": "stdout",
     "output_type": "stream",
     "text": [
      "hey\n"
     ]
    },
    {
     "ename": "TypeError",
     "evalue": "make a valid",
     "output_type": "error",
     "traceback": [
      "\u001b[1;31m---------------------------------------------------------------------------\u001b[0m",
      "\u001b[1;31mTypeError\u001b[0m                                 Traceback (most recent call last)",
      "\u001b[1;32m<ipython-input-18-f22dd07afd93>\u001b[0m in \u001b[0;36m<module>\u001b[1;34m\u001b[0m\n\u001b[0;32m      1\u001b[0m \u001b[0ma\u001b[0m\u001b[1;33m=\u001b[0m\u001b[0minput\u001b[0m\u001b[1;33m(\u001b[0m\u001b[1;33m)\u001b[0m\u001b[1;33m\u001b[0m\u001b[1;33m\u001b[0m\u001b[0m\n\u001b[0;32m      2\u001b[0m \u001b[1;32mif\u001b[0m \u001b[0ma\u001b[0m \u001b[1;32mnot\u001b[0m \u001b[1;32min\u001b[0m \u001b[1;33m[\u001b[0m\u001b[1;34m'yes'\u001b[0m\u001b[1;33m,\u001b[0m\u001b[1;34m'no'\u001b[0m\u001b[1;33m]\u001b[0m\u001b[1;33m:\u001b[0m\u001b[1;33m\u001b[0m\u001b[1;33m\u001b[0m\u001b[0m\n\u001b[1;32m----> 3\u001b[1;33m     \u001b[1;32mraise\u001b[0m \u001b[0mTypeError\u001b[0m\u001b[1;33m(\u001b[0m\u001b[1;34m'make a valid'\u001b[0m\u001b[1;33m)\u001b[0m\u001b[1;33m\u001b[0m\u001b[1;33m\u001b[0m\u001b[0m\n\u001b[0m",
      "\u001b[1;31mTypeError\u001b[0m: make a valid"
     ]
    }
   ],
   "source": [
    "a=input()\n",
    "if a not in ['yes','no']:\n",
    "    raise TypeError('make a valid entry')"
   ]
  },
  {
   "cell_type": "code",
   "execution_count": null,
   "metadata": {},
   "outputs": [],
   "source": []
  },
  {
   "cell_type": "code",
   "execution_count": 9,
   "metadata": {},
   "outputs": [
    {
     "name": "stdout",
     "output_type": "stream",
     "text": [
      "Please enter your name-:\n",
      "prakhar\n",
      "hello prakhar \n",
      "Welcome to this game created by Raees ;) \n",
      "This game involves first me thinking of a number and then you trying to guess that number . But here is the fun fact you give us a range of numbers to think from and you tell us the number of turns that you will need to guess that number seems easy doesnt it?\n",
      "Here Everything is under your control\n",
      "Excited?\n"
     ]
    }
   ],
   "source": []
  },
  {
   "cell_type": "code",
   "execution_count": 5,
   "metadata": {},
   "outputs": [
    {
     "name": "stdout",
     "output_type": "stream",
     "text": [
      "Please enter your name-:\n",
      "jh\n",
      "hello jh \n",
      "Welcome to this game created by Raees ;)\n",
      "This game involves first me thinking of a number and then you trying to guess that number. \n",
      "Do you wanna play\n",
      "type yes or no\n",
      "\n",
      "yes\n",
      "Okay so we are in the endgame right now \n",
      "Just joking (forgive my pjs) anyways lets continue with the game\n",
      "\n",
      "now I'll ask you for two things only \n",
      "1.First the range that is the upper limit and the lower limit in which you want me to think the number\n",
      "2.Second the number of turns that you'll require to guess that.\n",
      "Please give us the lower and upper limits of the range : 12 25\n",
      "how may turns do you want?: 5\n",
      "Ok setting up your game\n",
      "...\n",
      "...\n",
      "...\n",
      "...\n",
      "Now we are all set to go\n",
      "Best of luck making your guesses ;) ;)\n",
      "16\n",
      "8 2\n",
      "No that was a wrong guess\n",
      "4 chances are left\n",
      "14\n",
      "10 2\n",
      "No that was a wrong guess\n",
      "3 chances are left\n",
      "20\n",
      "4 2\n",
      "No that was a wrong guess\n",
      "2 chances are left\n",
      "23\n",
      "1 2\n",
      "Oops that was a wrong guess but you are TOO CLOSE\n",
      "You have {turns-count} chances left\n",
      "24\n",
      "Congrats you won in 5 number of turns\n"
     ]
    }
   ],
   "source": [
    "import random\n",
    "import time\n",
    "name=input(\"Please enter your name-:\\n\")\n",
    "print(f'''hello {name} \\nWelcome to this game created by Raees ;)\n",
    "This game involves first me thinking of a number and then you trying to guess that number. ''')\n",
    "while True:\n",
    "    try :\n",
    "        wannaPlay=input('Do you wanna play\\ntype yes or no\\n\\n')\n",
    "        if wannaPlay not in ['yes','no','YES','NO','Yes','No','YEs','nO','YeS','yES']:\n",
    "            raise TypeError\n",
    "        break\n",
    "    except:\n",
    "        print('Please type either yes or no')\n",
    "\n",
    "if wannaPlay in ['no','NO','No','nO']:\n",
    "    print('I am so sorry you did not like my game:( maybe you can drop in some suggestions\\n')\n",
    "    suggestions=input()\n",
    "else:\n",
    "    print('Okay so we are in the endgame right now \\nJust joking (forgive my pjs) anyways lets continue with the game\\n')\n",
    "    print(\"now I'll ask you for two things only \\n1.First the range that is the upper limit and the lower limit in which you want me to think the number\\n2.Second the number of turns that you'll require to guess that.\")\n",
    "    while True:\n",
    "        try:\n",
    "            range1=list(map(int,input('Please give us the lower and upper limits of the range : ').split()))\n",
    "            if len(range1)!=2:\n",
    "                raise ValueError\n",
    "        except:\n",
    "            print('Please enter only two integers')\n",
    "        else:\n",
    "            range1.sort()\n",
    "            break\n",
    "    while True:\n",
    "        try:\n",
    "            turns=int(input('how may turns do you want?: '))\n",
    "        except:\n",
    "            print('please enter an integer only')\n",
    "        else:\n",
    "            break\n",
    "    print('Ok setting up your game')\n",
    "    count=random.randint(1,6)\n",
    "    while count!=0:\n",
    "        print('...')\n",
    "        count-=1\n",
    "        time.sleep(.8)\n",
    "    print('Now we are all set to go')\n",
    "    number=random.randint(range1[0],range1[1])\n",
    "    count=0\n",
    "    print('Best of luck making your guesses ;) ;)')\n",
    "    while True:\n",
    "        try:\n",
    "            guess=int(input())\n",
    "        except:\n",
    "            print('please enter only integers')\n",
    "        else:\n",
    "            count+=1\n",
    "            if guess==number:\n",
    "                print(f'Congrats you won in {count} number of turns')\n",
    "                break\n",
    "            elif count==turns:\n",
    "                print(f'Sorry that was a wrong guess and you have no more chances left\\nMy guess was {number}\\nBetter luck next time')\n",
    "                break\n",
    "            else:\n",
    "                value=abs(guess-number)\n",
    "                a=(range1[1]-range1[0])//turns\n",
    "                print(value,a)\n",
    "                if a//2<value<=a:\n",
    "                    print(f'No that was a wrong a guess but you are CLOSE\\nYou have {turns-count} chances left')\n",
    "                elif value<=a//2:\n",
    "                    print(f'Oops that was a wrong guess but you are TOO CLOSE\\nYou have {turns-count} chances left')\n",
    "                else:\n",
    "                    print(f'No that was a wrong guess\\n{turns-count} chances are left')"
   ]
  },
  {
   "cell_type": "code",
   "execution_count": null,
   "metadata": {},
   "outputs": [],
   "source": []
  }
 ],
 "metadata": {
  "kernelspec": {
   "display_name": "Python 3",
   "language": "python",
   "name": "python3"
  },
  "language_info": {
   "codemirror_mode": {
    "name": "ipython",
    "version": 3
   },
   "file_extension": ".py",
   "mimetype": "text/x-python",
   "name": "python",
   "nbconvert_exporter": "python",
   "pygments_lexer": "ipython3",
   "version": "3.7.4"
  }
 },
 "nbformat": 4,
 "nbformat_minor": 2
}
